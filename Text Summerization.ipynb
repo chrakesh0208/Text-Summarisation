{
 "cells": [
  {
   "cell_type": "code",
   "execution_count": 1,
   "metadata": {},
   "outputs": [],
   "source": [
    "#!pip install spacy\n",
    "#(we have 3 type of model is available called small, medium & large)"
   ]
  },
  {
   "cell_type": "code",
   "execution_count": 2,
   "metadata": {},
   "outputs": [],
   "source": [
    "#!python -m spacy download en_core_web_sm"
   ]
  },
  {
   "cell_type": "code",
   "execution_count": 3,
   "metadata": {},
   "outputs": [],
   "source": [
    "import spacy\n",
    "nlp = spacy.load(\"en_core_web_sm\")\n",
    "doc = nlp(\"data science and ai has greate career ahead\")"
   ]
  },
  {
   "cell_type": "code",
   "execution_count": 4,
   "metadata": {},
   "outputs": [],
   "source": [
    "#import PyQt5"
   ]
  },
  {
   "cell_type": "code",
   "execution_count": 5,
   "metadata": {},
   "outputs": [
    {
     "data": {
      "text/plain": [
       "data science and ai has greate career ahead"
      ]
     },
     "execution_count": 5,
     "metadata": {},
     "output_type": "execute_result"
    }
   ],
   "source": [
    "doc"
   ]
  },
  {
   "cell_type": "code",
   "execution_count": 6,
   "metadata": {},
   "outputs": [
    {
     "name": "stdout",
     "output_type": "stream",
     "text": [
      "data\n",
      "science\n",
      "and\n",
      "ai\n",
      "has\n",
      "greate\n",
      "career\n",
      "ahead\n"
     ]
    }
   ],
   "source": [
    "for token in doc:\n",
    "    print(token.text)"
   ]
  },
  {
   "cell_type": "code",
   "execution_count": 7,
   "metadata": {},
   "outputs": [
    {
     "name": "stdout",
     "output_type": "stream",
     "text": [
      "Apple Apple PROPN NNP nsubj Xxxxx True False\n",
      "is be AUX VBZ aux xx True True\n",
      "looking look VERB VBG ROOT xxxx True False\n",
      "at at ADP IN prep xx True True\n",
      "buying buy VERB VBG pcomp xxxx True False\n",
      "U.K. U.K. PROPN NNP dobj X.X. False False\n",
      "startup startup NOUN NN dep xxxx True False\n",
      "for for ADP IN prep xxx True True\n",
      "$ $ SYM $ quantmod $ False False\n",
      "1 1 NUM CD compound d False False\n",
      "billion billion NUM CD pobj xxxx True False\n"
     ]
    }
   ],
   "source": [
    "import spacy\n",
    "\n",
    "nlp = spacy.load(\"en_core_web_sm\")\n",
    "doc = nlp(\"Apple is looking at buying U.K. startup for $1 billion\")\n",
    "\n",
    "for token in doc:\n",
    "    print(token.text, token.lemma_, token.pos_, token.tag_, token.dep_,\n",
    "            token.shape_, token.is_alpha, token.is_stop)"
   ]
  },
  {
   "cell_type": "code",
   "execution_count": 8,
   "metadata": {},
   "outputs": [
    {
     "name": "stdout",
     "output_type": "stream",
     "text": [
      "PROPN\n",
      "AUX\n",
      "VERB\n",
      "ADP\n",
      "VERB\n",
      "PROPN\n",
      "NOUN\n",
      "ADP\n",
      "SYM\n",
      "NUM\n",
      "NUM\n"
     ]
    }
   ],
   "source": [
    "for token in doc:\n",
    "    print(token.pos_)"
   ]
  },
  {
   "cell_type": "code",
   "execution_count": 9,
   "metadata": {},
   "outputs": [
    {
     "name": "stdout",
     "output_type": "stream",
     "text": [
      "Apple PROPN\n",
      "is AUX\n",
      "looking VERB\n",
      "at ADP\n",
      "buying VERB\n",
      "U.K. PROPN\n",
      "startup NOUN\n",
      "for ADP\n",
      "$ SYM\n",
      "1 NUM\n",
      "billion NUM\n"
     ]
    }
   ],
   "source": [
    "for token in doc:\n",
    "    print(token.text, token.pos_)"
   ]
  },
  {
   "cell_type": "code",
   "execution_count": 10,
   "metadata": {},
   "outputs": [
    {
     "name": "stdout",
     "output_type": "stream",
     "text": [
      "Apple PROPN Apple\n",
      "is AUX be\n",
      "looking VERB look\n",
      "at ADP at\n",
      "buying VERB buy\n",
      "U.K. PROPN U.K.\n",
      "startup NOUN startup\n",
      "for ADP for\n",
      "$ SYM $\n",
      "1 NUM 1\n",
      "billion NUM billion\n"
     ]
    }
   ],
   "source": [
    "for token in doc:\n",
    "    print(token.text, token.pos_, token.lemma_)"
   ]
  },
  {
   "cell_type": "code",
   "execution_count": 11,
   "metadata": {},
   "outputs": [],
   "source": [
    "text = \"\"\"There are broadly two types of extractive summarization tasks depending on what the summarization program focuses on. The first is generic summarization, which focuses on obtaining a generic summary or abstract of the collection (whether documents, or sets of images, or videos, news stories etc.). The second is query relevant summarization, sometimes called query-based summarization, which summarizes objects specific to a query. Summarization systems are able to create both query relevant text summaries and generic machine-generated summaries depending on what the user needs.\n",
    "An example of a summarization problem is document summarization, which attempts to automatically produce an abstract from a given document. Sometimes one might be interested in generating a summary from a single source document, while others can use multiple source documents (for example, a cluster of articles on the same topic). This problem is called multi-document summarization. A related application is summarizing news articles. Imagine a system, which automatically pulls together news articles on a given topic (from the web), and concisely represents the latest news as a summary.\n",
    "Image collection summarization is another application example of automatic summarization. It consists in selecting a representative set of images from a larger set of images.[4] A summary in this context is useful to show the most representative images of results in an image collection exploration system. Video summarization is a related domain, where the system automatically creates a trailer of a long video. This also has applications in consumer or personal videos, where one might want to skip the boring or repetitive actions. Similarly, in surveillance videos, one would want to extract important and suspicious activity, while ignoring all the boring and redundant frames captured \"\"\""
   ]
  },
  {
   "cell_type": "code",
   "execution_count": 12,
   "metadata": {},
   "outputs": [
    {
     "data": {
      "text/plain": [
       "'There are broadly two types of extractive summarization tasks depending on what the summarization program focuses on. The first is generic summarization, which focuses on obtaining a generic summary or abstract of the collection (whether documents, or sets of images, or videos, news stories etc.). The second is query relevant summarization, sometimes called query-based summarization, which summarizes objects specific to a query. Summarization systems are able to create both query relevant text summaries and generic machine-generated summaries depending on what the user needs.\\nAn example of a summarization problem is document summarization, which attempts to automatically produce an abstract from a given document. Sometimes one might be interested in generating a summary from a single source document, while others can use multiple source documents (for example, a cluster of articles on the same topic). This problem is called multi-document summarization. A related application is summarizing news articles. Imagine a system, which automatically pulls together news articles on a given topic (from the web), and concisely represents the latest news as a summary.\\nImage collection summarization is another application example of automatic summarization. It consists in selecting a representative set of images from a larger set of images.[4] A summary in this context is useful to show the most representative images of results in an image collection exploration system. Video summarization is a related domain, where the system automatically creates a trailer of a long video. This also has applications in consumer or personal videos, where one might want to skip the boring or repetitive actions. Similarly, in surveillance videos, one would want to extract important and suspicious activity, while ignoring all the boring and redundant frames captured '"
      ]
     },
     "execution_count": 12,
     "metadata": {},
     "output_type": "execute_result"
    }
   ],
   "source": [
    "text"
   ]
  },
  {
   "cell_type": "code",
   "execution_count": 13,
   "metadata": {},
   "outputs": [],
   "source": [
    "import spacy\n",
    "from spacy.lang.en.stop_words import STOP_WORDS\n",
    "from string import punctuation"
   ]
  },
  {
   "cell_type": "code",
   "execution_count": 14,
   "metadata": {},
   "outputs": [
    {
     "data": {
      "text/plain": [
       "['sometimes',\n",
       " 'itself',\n",
       " 'mostly',\n",
       " 'moreover',\n",
       " 'used',\n",
       " 'indeed',\n",
       " 'onto',\n",
       " 'became',\n",
       " 'whither',\n",
       " 'a',\n",
       " 'something',\n",
       " 'anywhere',\n",
       " 'alone',\n",
       " 'will',\n",
       " 'wherever',\n",
       " 'namely',\n",
       " 'twenty',\n",
       " 'seeming',\n",
       " 'everything',\n",
       " 'once',\n",
       " 'could',\n",
       " 'by',\n",
       " 'down',\n",
       " 'however',\n",
       " 'empty',\n",
       " 'than',\n",
       " 'third',\n",
       " 'n’t',\n",
       " '’s',\n",
       " 'together',\n",
       " 'which',\n",
       " 'above',\n",
       " 'cannot',\n",
       " 'whereas',\n",
       " 'with',\n",
       " 'front',\n",
       " 'that',\n",
       " 'amongst',\n",
       " 'various',\n",
       " 'within',\n",
       " 'over',\n",
       " 'wherein',\n",
       " 'along',\n",
       " 'whole',\n",
       " 'made',\n",
       " 'me',\n",
       " 'whenever',\n",
       " 'bottom',\n",
       " 'regarding',\n",
       " 'several',\n",
       " 'between',\n",
       " 'hence',\n",
       " 'us',\n",
       " 'our',\n",
       " 'did',\n",
       " 'to',\n",
       " 'ten',\n",
       " \"'re\",\n",
       " 'their',\n",
       " 'was',\n",
       " 'first',\n",
       " 'on',\n",
       " 'nowhere',\n",
       " 'but',\n",
       " 'themselves',\n",
       " 'should',\n",
       " 'n‘t',\n",
       " 'thereafter',\n",
       " 'much',\n",
       " 'fifty',\n",
       " 'those',\n",
       " 'anything',\n",
       " 'already',\n",
       " 'least',\n",
       " 'toward',\n",
       " 'below',\n",
       " 'again',\n",
       " 'yours',\n",
       " 'quite',\n",
       " 'had',\n",
       " 'anyone',\n",
       " 'same',\n",
       " 'formerly',\n",
       " 'often',\n",
       " '‘ll',\n",
       " 'next',\n",
       " 'an',\n",
       " 'am',\n",
       " 'besides',\n",
       " 'she',\n",
       " 'becoming',\n",
       " 'while',\n",
       " 'else',\n",
       " 'whereafter',\n",
       " 'take',\n",
       " 'see',\n",
       " 'we',\n",
       " 'during',\n",
       " 'four',\n",
       " 'ever',\n",
       " 'perhaps',\n",
       " 'if',\n",
       " '‘s',\n",
       " 'somehow',\n",
       " 'behind',\n",
       " 'afterwards',\n",
       " 'put',\n",
       " 'six',\n",
       " 'may',\n",
       " 'most',\n",
       " 'does',\n",
       " 'herein',\n",
       " '’d',\n",
       " 'everywhere',\n",
       " 'own',\n",
       " \"'d\",\n",
       " 'towards',\n",
       " 'fifteen',\n",
       " 'might',\n",
       " 'latter',\n",
       " 'go',\n",
       " 'part',\n",
       " 'via',\n",
       " '‘re',\n",
       " 'very',\n",
       " 'here',\n",
       " 'enough',\n",
       " 'somewhere',\n",
       " 'whom',\n",
       " 'say',\n",
       " 'therefore',\n",
       " 'he',\n",
       " 'thereby',\n",
       " 'sixty',\n",
       " 'such',\n",
       " 'everyone',\n",
       " 'your',\n",
       " 'whether',\n",
       " 'please',\n",
       " 'few',\n",
       " 'three',\n",
       " '‘d',\n",
       " 'whereby',\n",
       " 'side',\n",
       " 'among',\n",
       " 'for',\n",
       " 'thereupon',\n",
       " 'every',\n",
       " 'elsewhere',\n",
       " 'due',\n",
       " '’ve',\n",
       " 'himself',\n",
       " 'of',\n",
       " 'beyond',\n",
       " 'herself',\n",
       " 'eight',\n",
       " 'only',\n",
       " 'throughout',\n",
       " 'still',\n",
       " 'becomes',\n",
       " 'mine',\n",
       " 'keep',\n",
       " 'former',\n",
       " 'at',\n",
       " 'even',\n",
       " '‘ve',\n",
       " 'her',\n",
       " 'always',\n",
       " 'him',\n",
       " 'now',\n",
       " 'thru',\n",
       " 'so',\n",
       " 'amount',\n",
       " 'they',\n",
       " 'therein',\n",
       " 'without',\n",
       " \"n't\",\n",
       " 'them',\n",
       " 'up',\n",
       " 'both',\n",
       " 'back',\n",
       " 'has',\n",
       " 'how',\n",
       " 're',\n",
       " 'serious',\n",
       " 'were',\n",
       " 'out',\n",
       " 'well',\n",
       " 'ourselves',\n",
       " 'and',\n",
       " 'as',\n",
       " 'otherwise',\n",
       " 'whence',\n",
       " 'why',\n",
       " 'nor',\n",
       " 'forty',\n",
       " '’re',\n",
       " 'some',\n",
       " 'meanwhile',\n",
       " '’m',\n",
       " 'any',\n",
       " 'give',\n",
       " 'where',\n",
       " 'per',\n",
       " 'since',\n",
       " 'must',\n",
       " 'none',\n",
       " 'one',\n",
       " 'hereupon',\n",
       " 'can',\n",
       " 'ours',\n",
       " 'until',\n",
       " 'done',\n",
       " 'using',\n",
       " 'are',\n",
       " 'when',\n",
       " 'anyhow',\n",
       " 'never',\n",
       " 'who',\n",
       " 'through',\n",
       " 'the',\n",
       " 'really',\n",
       " 'hereby',\n",
       " 'then',\n",
       " 'except',\n",
       " \"'ll\",\n",
       " 'yourselves',\n",
       " 'make',\n",
       " 'rather',\n",
       " 'be',\n",
       " 'his',\n",
       " 'it',\n",
       " 'other',\n",
       " 'being',\n",
       " 'sometime',\n",
       " 'this',\n",
       " 'thus',\n",
       " 'against',\n",
       " 'someone',\n",
       " 'have',\n",
       " 'under',\n",
       " 'across',\n",
       " 'less',\n",
       " 'although',\n",
       " 'nine',\n",
       " 'from',\n",
       " 'hereafter',\n",
       " \"'m\",\n",
       " 'seemed',\n",
       " 'about',\n",
       " 'whatever',\n",
       " 'in',\n",
       " 'eleven',\n",
       " 'beforehand',\n",
       " 'ca',\n",
       " 'call',\n",
       " 'get',\n",
       " 'twelve',\n",
       " 'whereupon',\n",
       " 'become',\n",
       " \"'ve\",\n",
       " 'others',\n",
       " 'many',\n",
       " 'yet',\n",
       " 'what',\n",
       " 'full',\n",
       " 'its',\n",
       " 'or',\n",
       " 'upon',\n",
       " 'not',\n",
       " \"'s\",\n",
       " 'anyway',\n",
       " 'nothing',\n",
       " 'all',\n",
       " 'been',\n",
       " 'do',\n",
       " 'i',\n",
       " 'each',\n",
       " 'unless',\n",
       " 'yourself',\n",
       " 'after',\n",
       " 'name',\n",
       " 'into',\n",
       " 'these',\n",
       " 'would',\n",
       " 'doing',\n",
       " 'just',\n",
       " 'neither',\n",
       " 'almost',\n",
       " 'either',\n",
       " 'seem',\n",
       " 'two',\n",
       " 'five',\n",
       " 'further',\n",
       " 'though',\n",
       " 'because',\n",
       " 'hers',\n",
       " 'my',\n",
       " 'too',\n",
       " 'top',\n",
       " 'hundred',\n",
       " 'there',\n",
       " 'myself',\n",
       " 'whose',\n",
       " 'another',\n",
       " '‘m',\n",
       " 'no',\n",
       " 'beside',\n",
       " 'seems',\n",
       " 'off',\n",
       " 'show',\n",
       " '’ll',\n",
       " 'you',\n",
       " 'also',\n",
       " 'last',\n",
       " 'more',\n",
       " 'latterly',\n",
       " 'before',\n",
       " 'around',\n",
       " 'noone',\n",
       " 'nevertheless',\n",
       " 'nobody',\n",
       " 'thence',\n",
       " 'whoever',\n",
       " 'move',\n",
       " 'is']"
      ]
     },
     "execution_count": 14,
     "metadata": {},
     "output_type": "execute_result"
    }
   ],
   "source": [
    "stopwords = list(STOP_WORDS) \n",
    "stopwords"
   ]
  },
  {
   "cell_type": "code",
   "execution_count": 15,
   "metadata": {},
   "outputs": [
    {
     "data": {
      "text/plain": [
       "326"
      ]
     },
     "execution_count": 15,
     "metadata": {},
     "output_type": "execute_result"
    }
   ],
   "source": [
    "len(stopwords)"
   ]
  },
  {
   "cell_type": "code",
   "execution_count": 16,
   "metadata": {},
   "outputs": [],
   "source": [
    "nlp = spacy.load('en_core_web_sm') "
   ]
  },
  {
   "cell_type": "code",
   "execution_count": 17,
   "metadata": {},
   "outputs": [
    {
     "data": {
      "text/plain": [
       "'There are broadly two types of extractive summarization tasks depending on what the summarization program focuses on. The first is generic summarization, which focuses on obtaining a generic summary or abstract of the collection (whether documents, or sets of images, or videos, news stories etc.). The second is query relevant summarization, sometimes called query-based summarization, which summarizes objects specific to a query. Summarization systems are able to create both query relevant text summaries and generic machine-generated summaries depending on what the user needs.\\nAn example of a summarization problem is document summarization, which attempts to automatically produce an abstract from a given document. Sometimes one might be interested in generating a summary from a single source document, while others can use multiple source documents (for example, a cluster of articles on the same topic). This problem is called multi-document summarization. A related application is summarizing news articles. Imagine a system, which automatically pulls together news articles on a given topic (from the web), and concisely represents the latest news as a summary.\\nImage collection summarization is another application example of automatic summarization. It consists in selecting a representative set of images from a larger set of images.[4] A summary in this context is useful to show the most representative images of results in an image collection exploration system. Video summarization is a related domain, where the system automatically creates a trailer of a long video. This also has applications in consumer or personal videos, where one might want to skip the boring or repetitive actions. Similarly, in surveillance videos, one would want to extract important and suspicious activity, while ignoring all the boring and redundant frames captured '"
      ]
     },
     "execution_count": 17,
     "metadata": {},
     "output_type": "execute_result"
    }
   ],
   "source": [
    "text"
   ]
  },
  {
   "cell_type": "code",
   "execution_count": 18,
   "metadata": {},
   "outputs": [
    {
     "data": {
      "text/plain": [
       "There are broadly two types of extractive summarization tasks depending on what the summarization program focuses on. The first is generic summarization, which focuses on obtaining a generic summary or abstract of the collection (whether documents, or sets of images, or videos, news stories etc.). The second is query relevant summarization, sometimes called query-based summarization, which summarizes objects specific to a query. Summarization systems are able to create both query relevant text summaries and generic machine-generated summaries depending on what the user needs.\n",
       "An example of a summarization problem is document summarization, which attempts to automatically produce an abstract from a given document. Sometimes one might be interested in generating a summary from a single source document, while others can use multiple source documents (for example, a cluster of articles on the same topic). This problem is called multi-document summarization. A related application is summarizing news articles. Imagine a system, which automatically pulls together news articles on a given topic (from the web), and concisely represents the latest news as a summary.\n",
       "Image collection summarization is another application example of automatic summarization. It consists in selecting a representative set of images from a larger set of images.[4] A summary in this context is useful to show the most representative images of results in an image collection exploration system. Video summarization is a related domain, where the system automatically creates a trailer of a long video. This also has applications in consumer or personal videos, where one might want to skip the boring or repetitive actions. Similarly, in surveillance videos, one would want to extract important and suspicious activity, while ignoring all the boring and redundant frames captured "
      ]
     },
     "execution_count": 18,
     "metadata": {},
     "output_type": "execute_result"
    }
   ],
   "source": [
    "doc = nlp(text)\n",
    "doc"
   ]
  },
  {
   "cell_type": "code",
   "execution_count": 19,
   "metadata": {},
   "outputs": [
    {
     "name": "stdout",
     "output_type": "stream",
     "text": [
      "['There', 'are', 'broadly', 'two', 'types', 'of', 'extractive', 'summarization', 'tasks', 'depending', 'on', 'what', 'the', 'summarization', 'program', 'focuses', 'on', '.', 'The', 'first', 'is', 'generic', 'summarization', ',', 'which', 'focuses', 'on', 'obtaining', 'a', 'generic', 'summary', 'or', 'abstract', 'of', 'the', 'collection', '(', 'whether', 'documents', ',', 'or', 'sets', 'of', 'images', ',', 'or', 'videos', ',', 'news', 'stories', 'etc', '.', ')', '.', 'The', 'second', 'is', 'query', 'relevant', 'summarization', ',', 'sometimes', 'called', 'query', '-', 'based', 'summarization', ',', 'which', 'summarizes', 'objects', 'specific', 'to', 'a', 'query', '.', 'Summarization', 'systems', 'are', 'able', 'to', 'create', 'both', 'query', 'relevant', 'text', 'summaries', 'and', 'generic', 'machine', '-', 'generated', 'summaries', 'depending', 'on', 'what', 'the', 'user', 'needs', '.', '\\n', 'An', 'example', 'of', 'a', 'summarization', 'problem', 'is', 'document', 'summarization', ',', 'which', 'attempts', 'to', 'automatically', 'produce', 'an', 'abstract', 'from', 'a', 'given', 'document', '.', 'Sometimes', 'one', 'might', 'be', 'interested', 'in', 'generating', 'a', 'summary', 'from', 'a', 'single', 'source', 'document', ',', 'while', 'others', 'can', 'use', 'multiple', 'source', 'documents', '(', 'for', 'example', ',', 'a', 'cluster', 'of', 'articles', 'on', 'the', 'same', 'topic', ')', '.', 'This', 'problem', 'is', 'called', 'multi', '-', 'document', 'summarization', '.', 'A', 'related', 'application', 'is', 'summarizing', 'news', 'articles', '.', 'Imagine', 'a', 'system', ',', 'which', 'automatically', 'pulls', 'together', 'news', 'articles', 'on', 'a', 'given', 'topic', '(', 'from', 'the', 'web', ')', ',', 'and', 'concisely', 'represents', 'the', 'latest', 'news', 'as', 'a', 'summary', '.', '\\n', 'Image', 'collection', 'summarization', 'is', 'another', 'application', 'example', 'of', 'automatic', 'summarization', '.', 'It', 'consists', 'in', 'selecting', 'a', 'representative', 'set', 'of', 'images', 'from', 'a', 'larger', 'set', 'of', 'images.[4', ']', 'A', 'summary', 'in', 'this', 'context', 'is', 'useful', 'to', 'show', 'the', 'most', 'representative', 'images', 'of', 'results', 'in', 'an', 'image', 'collection', 'exploration', 'system', '.', 'Video', 'summarization', 'is', 'a', 'related', 'domain', ',', 'where', 'the', 'system', 'automatically', 'creates', 'a', 'trailer', 'of', 'a', 'long', 'video', '.', 'This', 'also', 'has', 'applications', 'in', 'consumer', 'or', 'personal', 'videos', ',', 'where', 'one', 'might', 'want', 'to', 'skip', 'the', 'boring', 'or', 'repetitive', 'actions', '.', 'Similarly', ',', 'in', 'surveillance', 'videos', ',', 'one', 'would', 'want', 'to', 'extract', 'important', 'and', 'suspicious', 'activity', ',', 'while', 'ignoring', 'all', 'the', 'boring', 'and', 'redundant', 'frames', 'captured']\n"
     ]
    }
   ],
   "source": [
    "# lets get the tokens from text\n",
    "tokens = [token.text for token in doc]\n",
    "print(tokens) \n",
    "#when we execute everythihg we created tokens from the text & not removed any of the stopwords & didnt cleaned the data"
   ]
  },
  {
   "cell_type": "code",
   "execution_count": 20,
   "metadata": {},
   "outputs": [
    {
     "data": {
      "text/plain": [
       "['There',\n",
       " 'are',\n",
       " 'broadly',\n",
       " 'two',\n",
       " 'types',\n",
       " 'of',\n",
       " 'extractive',\n",
       " 'summarization',\n",
       " 'tasks',\n",
       " 'depending',\n",
       " 'on',\n",
       " 'what',\n",
       " 'the',\n",
       " 'summarization',\n",
       " 'program',\n",
       " 'focuses',\n",
       " 'on',\n",
       " '.',\n",
       " 'The',\n",
       " 'first',\n",
       " 'is',\n",
       " 'generic',\n",
       " 'summarization',\n",
       " ',',\n",
       " 'which',\n",
       " 'focuses',\n",
       " 'on',\n",
       " 'obtaining',\n",
       " 'a',\n",
       " 'generic',\n",
       " 'summary',\n",
       " 'or',\n",
       " 'abstract',\n",
       " 'of',\n",
       " 'the',\n",
       " 'collection',\n",
       " '(',\n",
       " 'whether',\n",
       " 'documents',\n",
       " ',',\n",
       " 'or',\n",
       " 'sets',\n",
       " 'of',\n",
       " 'images',\n",
       " ',',\n",
       " 'or',\n",
       " 'videos',\n",
       " ',',\n",
       " 'news',\n",
       " 'stories',\n",
       " 'etc',\n",
       " '.',\n",
       " ')',\n",
       " '.',\n",
       " 'The',\n",
       " 'second',\n",
       " 'is',\n",
       " 'query',\n",
       " 'relevant',\n",
       " 'summarization',\n",
       " ',',\n",
       " 'sometimes',\n",
       " 'called',\n",
       " 'query',\n",
       " '-',\n",
       " 'based',\n",
       " 'summarization',\n",
       " ',',\n",
       " 'which',\n",
       " 'summarizes',\n",
       " 'objects',\n",
       " 'specific',\n",
       " 'to',\n",
       " 'a',\n",
       " 'query',\n",
       " '.',\n",
       " 'Summarization',\n",
       " 'systems',\n",
       " 'are',\n",
       " 'able',\n",
       " 'to',\n",
       " 'create',\n",
       " 'both',\n",
       " 'query',\n",
       " 'relevant',\n",
       " 'text',\n",
       " 'summaries',\n",
       " 'and',\n",
       " 'generic',\n",
       " 'machine',\n",
       " '-',\n",
       " 'generated',\n",
       " 'summaries',\n",
       " 'depending',\n",
       " 'on',\n",
       " 'what',\n",
       " 'the',\n",
       " 'user',\n",
       " 'needs',\n",
       " '.',\n",
       " '\\n',\n",
       " 'An',\n",
       " 'example',\n",
       " 'of',\n",
       " 'a',\n",
       " 'summarization',\n",
       " 'problem',\n",
       " 'is',\n",
       " 'document',\n",
       " 'summarization',\n",
       " ',',\n",
       " 'which',\n",
       " 'attempts',\n",
       " 'to',\n",
       " 'automatically',\n",
       " 'produce',\n",
       " 'an',\n",
       " 'abstract',\n",
       " 'from',\n",
       " 'a',\n",
       " 'given',\n",
       " 'document',\n",
       " '.',\n",
       " 'Sometimes',\n",
       " 'one',\n",
       " 'might',\n",
       " 'be',\n",
       " 'interested',\n",
       " 'in',\n",
       " 'generating',\n",
       " 'a',\n",
       " 'summary',\n",
       " 'from',\n",
       " 'a',\n",
       " 'single',\n",
       " 'source',\n",
       " 'document',\n",
       " ',',\n",
       " 'while',\n",
       " 'others',\n",
       " 'can',\n",
       " 'use',\n",
       " 'multiple',\n",
       " 'source',\n",
       " 'documents',\n",
       " '(',\n",
       " 'for',\n",
       " 'example',\n",
       " ',',\n",
       " 'a',\n",
       " 'cluster',\n",
       " 'of',\n",
       " 'articles',\n",
       " 'on',\n",
       " 'the',\n",
       " 'same',\n",
       " 'topic',\n",
       " ')',\n",
       " '.',\n",
       " 'This',\n",
       " 'problem',\n",
       " 'is',\n",
       " 'called',\n",
       " 'multi',\n",
       " '-',\n",
       " 'document',\n",
       " 'summarization',\n",
       " '.',\n",
       " 'A',\n",
       " 'related',\n",
       " 'application',\n",
       " 'is',\n",
       " 'summarizing',\n",
       " 'news',\n",
       " 'articles',\n",
       " '.',\n",
       " 'Imagine',\n",
       " 'a',\n",
       " 'system',\n",
       " ',',\n",
       " 'which',\n",
       " 'automatically',\n",
       " 'pulls',\n",
       " 'together',\n",
       " 'news',\n",
       " 'articles',\n",
       " 'on',\n",
       " 'a',\n",
       " 'given',\n",
       " 'topic',\n",
       " '(',\n",
       " 'from',\n",
       " 'the',\n",
       " 'web',\n",
       " ')',\n",
       " ',',\n",
       " 'and',\n",
       " 'concisely',\n",
       " 'represents',\n",
       " 'the',\n",
       " 'latest',\n",
       " 'news',\n",
       " 'as',\n",
       " 'a',\n",
       " 'summary',\n",
       " '.',\n",
       " '\\n',\n",
       " 'Image',\n",
       " 'collection',\n",
       " 'summarization',\n",
       " 'is',\n",
       " 'another',\n",
       " 'application',\n",
       " 'example',\n",
       " 'of',\n",
       " 'automatic',\n",
       " 'summarization',\n",
       " '.',\n",
       " 'It',\n",
       " 'consists',\n",
       " 'in',\n",
       " 'selecting',\n",
       " 'a',\n",
       " 'representative',\n",
       " 'set',\n",
       " 'of',\n",
       " 'images',\n",
       " 'from',\n",
       " 'a',\n",
       " 'larger',\n",
       " 'set',\n",
       " 'of',\n",
       " 'images.[4',\n",
       " ']',\n",
       " 'A',\n",
       " 'summary',\n",
       " 'in',\n",
       " 'this',\n",
       " 'context',\n",
       " 'is',\n",
       " 'useful',\n",
       " 'to',\n",
       " 'show',\n",
       " 'the',\n",
       " 'most',\n",
       " 'representative',\n",
       " 'images',\n",
       " 'of',\n",
       " 'results',\n",
       " 'in',\n",
       " 'an',\n",
       " 'image',\n",
       " 'collection',\n",
       " 'exploration',\n",
       " 'system',\n",
       " '.',\n",
       " 'Video',\n",
       " 'summarization',\n",
       " 'is',\n",
       " 'a',\n",
       " 'related',\n",
       " 'domain',\n",
       " ',',\n",
       " 'where',\n",
       " 'the',\n",
       " 'system',\n",
       " 'automatically',\n",
       " 'creates',\n",
       " 'a',\n",
       " 'trailer',\n",
       " 'of',\n",
       " 'a',\n",
       " 'long',\n",
       " 'video',\n",
       " '.',\n",
       " 'This',\n",
       " 'also',\n",
       " 'has',\n",
       " 'applications',\n",
       " 'in',\n",
       " 'consumer',\n",
       " 'or',\n",
       " 'personal',\n",
       " 'videos',\n",
       " ',',\n",
       " 'where',\n",
       " 'one',\n",
       " 'might',\n",
       " 'want',\n",
       " 'to',\n",
       " 'skip',\n",
       " 'the',\n",
       " 'boring',\n",
       " 'or',\n",
       " 'repetitive',\n",
       " 'actions',\n",
       " '.',\n",
       " 'Similarly',\n",
       " ',',\n",
       " 'in',\n",
       " 'surveillance',\n",
       " 'videos',\n",
       " ',',\n",
       " 'one',\n",
       " 'would',\n",
       " 'want',\n",
       " 'to',\n",
       " 'extract',\n",
       " 'important',\n",
       " 'and',\n",
       " 'suspicious',\n",
       " 'activity',\n",
       " ',',\n",
       " 'while',\n",
       " 'ignoring',\n",
       " 'all',\n",
       " 'the',\n",
       " 'boring',\n",
       " 'and',\n",
       " 'redundant',\n",
       " 'frames',\n",
       " 'captured']"
      ]
     },
     "execution_count": 20,
     "metadata": {},
     "output_type": "execute_result"
    }
   ],
   "source": [
    "tokens"
   ]
  },
  {
   "cell_type": "code",
   "execution_count": 21,
   "metadata": {},
   "outputs": [
    {
     "data": {
      "text/plain": [
       "322"
      ]
     },
     "execution_count": 21,
     "metadata": {},
     "output_type": "execute_result"
    }
   ],
   "source": [
    "len(tokens)"
   ]
  },
  {
   "cell_type": "code",
   "execution_count": 22,
   "metadata": {
    "scrolled": true
   },
   "outputs": [
    {
     "data": {
      "text/plain": [
       "'!\"#$%&\\'()*+,-./:;<=>?@[\\\\]^_`{|}~'"
      ]
     },
     "execution_count": 22,
     "metadata": {},
     "output_type": "execute_result"
    }
   ],
   "source": [
    "punctuation # also called as noisy characters"
   ]
  },
  {
   "cell_type": "code",
   "execution_count": 23,
   "metadata": {},
   "outputs": [
    {
     "data": {
      "text/plain": [
       "There are broadly two types of extractive summarization tasks depending on what the summarization program focuses on. The first is generic summarization, which focuses on obtaining a generic summary or abstract of the collection (whether documents, or sets of images, or videos, news stories etc.). The second is query relevant summarization, sometimes called query-based summarization, which summarizes objects specific to a query. Summarization systems are able to create both query relevant text summaries and generic machine-generated summaries depending on what the user needs.\n",
       "An example of a summarization problem is document summarization, which attempts to automatically produce an abstract from a given document. Sometimes one might be interested in generating a summary from a single source document, while others can use multiple source documents (for example, a cluster of articles on the same topic). This problem is called multi-document summarization. A related application is summarizing news articles. Imagine a system, which automatically pulls together news articles on a given topic (from the web), and concisely represents the latest news as a summary.\n",
       "Image collection summarization is another application example of automatic summarization. It consists in selecting a representative set of images from a larger set of images.[4] A summary in this context is useful to show the most representative images of results in an image collection exploration system. Video summarization is a related domain, where the system automatically creates a trailer of a long video. This also has applications in consumer or personal videos, where one might want to skip the boring or repetitive actions. Similarly, in surveillance videos, one would want to extract important and suspicious activity, while ignoring all the boring and redundant frames captured "
      ]
     },
     "execution_count": 23,
     "metadata": {},
     "output_type": "execute_result"
    }
   ],
   "source": [
    "doc"
   ]
  },
  {
   "cell_type": "code",
   "execution_count": 24,
   "metadata": {},
   "outputs": [],
   "source": [
    "#we have to calcualte the freaquency of each and every word, how many time word is repetation in text \n",
    "\n",
    "word_frequencies = {}\n",
    "\n",
    "for word in doc:\n",
    "    if word.text.lower() not in stopwords:\n",
    "        if word.text.lower() not in punctuation:\n",
    "            if word.text not in word_frequencies.keys():\n",
    "                word_frequencies[word.text] = 1\n",
    "            else:\n",
    "                word_frequencies[word.text] += 1"
   ]
  },
  {
   "cell_type": "code",
   "execution_count": 25,
   "metadata": {},
   "outputs": [
    {
     "data": {
      "text/plain": [
       "{'broadly': 1,\n",
       " 'types': 1,\n",
       " 'extractive': 1,\n",
       " 'summarization': 11,\n",
       " 'tasks': 1,\n",
       " 'depending': 2,\n",
       " 'program': 1,\n",
       " 'focuses': 2,\n",
       " 'generic': 3,\n",
       " 'obtaining': 1,\n",
       " 'summary': 4,\n",
       " 'abstract': 2,\n",
       " 'collection': 3,\n",
       " 'documents': 2,\n",
       " 'sets': 1,\n",
       " 'images': 3,\n",
       " 'videos': 3,\n",
       " 'news': 4,\n",
       " 'stories': 1,\n",
       " 'etc': 1,\n",
       " 'second': 1,\n",
       " 'query': 4,\n",
       " 'relevant': 2,\n",
       " 'called': 2,\n",
       " 'based': 1,\n",
       " 'summarizes': 1,\n",
       " 'objects': 1,\n",
       " 'specific': 1,\n",
       " 'Summarization': 1,\n",
       " 'systems': 1,\n",
       " 'able': 1,\n",
       " 'create': 1,\n",
       " 'text': 1,\n",
       " 'summaries': 2,\n",
       " 'machine': 1,\n",
       " 'generated': 1,\n",
       " 'user': 1,\n",
       " 'needs': 1,\n",
       " '\\n': 2,\n",
       " 'example': 3,\n",
       " 'problem': 2,\n",
       " 'document': 4,\n",
       " 'attempts': 1,\n",
       " 'automatically': 3,\n",
       " 'produce': 1,\n",
       " 'given': 2,\n",
       " 'interested': 1,\n",
       " 'generating': 1,\n",
       " 'single': 1,\n",
       " 'source': 2,\n",
       " 'use': 1,\n",
       " 'multiple': 1,\n",
       " 'cluster': 1,\n",
       " 'articles': 3,\n",
       " 'topic': 2,\n",
       " 'multi': 1,\n",
       " 'related': 2,\n",
       " 'application': 2,\n",
       " 'summarizing': 1,\n",
       " 'Imagine': 1,\n",
       " 'system': 3,\n",
       " 'pulls': 1,\n",
       " 'web': 1,\n",
       " 'concisely': 1,\n",
       " 'represents': 1,\n",
       " 'latest': 1,\n",
       " 'Image': 1,\n",
       " 'automatic': 1,\n",
       " 'consists': 1,\n",
       " 'selecting': 1,\n",
       " 'representative': 2,\n",
       " 'set': 2,\n",
       " 'larger': 1,\n",
       " 'images.[4': 1,\n",
       " 'context': 1,\n",
       " 'useful': 1,\n",
       " 'results': 1,\n",
       " 'image': 1,\n",
       " 'exploration': 1,\n",
       " 'Video': 1,\n",
       " 'domain': 1,\n",
       " 'creates': 1,\n",
       " 'trailer': 1,\n",
       " 'long': 1,\n",
       " 'video': 1,\n",
       " 'applications': 1,\n",
       " 'consumer': 1,\n",
       " 'personal': 1,\n",
       " 'want': 2,\n",
       " 'skip': 1,\n",
       " 'boring': 2,\n",
       " 'repetitive': 1,\n",
       " 'actions': 1,\n",
       " 'Similarly': 1,\n",
       " 'surveillance': 1,\n",
       " 'extract': 1,\n",
       " 'important': 1,\n",
       " 'suspicious': 1,\n",
       " 'activity': 1,\n",
       " 'ignoring': 1,\n",
       " 'redundant': 1,\n",
       " 'frames': 1,\n",
       " 'captured': 1}"
      ]
     },
     "execution_count": 25,
     "metadata": {},
     "output_type": "execute_result"
    }
   ],
   "source": [
    "word_frequencies\n",
    "#print(word_frequencies)"
   ]
  },
  {
   "cell_type": "code",
   "execution_count": 26,
   "metadata": {},
   "outputs": [
    {
     "data": {
      "text/plain": [
       "103"
      ]
     },
     "execution_count": 26,
     "metadata": {},
     "output_type": "execute_result"
    }
   ],
   "source": [
    "len(word_frequencies) "
   ]
  },
  {
   "cell_type": "code",
   "execution_count": 27,
   "metadata": {},
   "outputs": [
    {
     "data": {
      "text/plain": [
       "{'broadly': 1,\n",
       " 'types': 1,\n",
       " 'extractive': 1,\n",
       " 'summarization': 11,\n",
       " 'tasks': 1,\n",
       " 'depending': 2,\n",
       " 'program': 1,\n",
       " 'focuses': 2,\n",
       " 'generic': 3,\n",
       " 'obtaining': 1,\n",
       " 'summary': 4,\n",
       " 'abstract': 2,\n",
       " 'collection': 3,\n",
       " 'documents': 2,\n",
       " 'sets': 1,\n",
       " 'images': 3,\n",
       " 'videos': 3,\n",
       " 'news': 4,\n",
       " 'stories': 1,\n",
       " 'etc': 1,\n",
       " 'second': 1,\n",
       " 'query': 4,\n",
       " 'relevant': 2,\n",
       " 'called': 2,\n",
       " 'based': 1,\n",
       " 'summarizes': 1,\n",
       " 'objects': 1,\n",
       " 'specific': 1,\n",
       " 'Summarization': 1,\n",
       " 'systems': 1,\n",
       " 'able': 1,\n",
       " 'create': 1,\n",
       " 'text': 1,\n",
       " 'summaries': 2,\n",
       " 'machine': 1,\n",
       " 'generated': 1,\n",
       " 'user': 1,\n",
       " 'needs': 1,\n",
       " '\\n': 2,\n",
       " 'example': 3,\n",
       " 'problem': 2,\n",
       " 'document': 4,\n",
       " 'attempts': 1,\n",
       " 'automatically': 3,\n",
       " 'produce': 1,\n",
       " 'given': 2,\n",
       " 'interested': 1,\n",
       " 'generating': 1,\n",
       " 'single': 1,\n",
       " 'source': 2,\n",
       " 'use': 1,\n",
       " 'multiple': 1,\n",
       " 'cluster': 1,\n",
       " 'articles': 3,\n",
       " 'topic': 2,\n",
       " 'multi': 1,\n",
       " 'related': 2,\n",
       " 'application': 2,\n",
       " 'summarizing': 1,\n",
       " 'Imagine': 1,\n",
       " 'system': 3,\n",
       " 'pulls': 1,\n",
       " 'web': 1,\n",
       " 'concisely': 1,\n",
       " 'represents': 1,\n",
       " 'latest': 1,\n",
       " 'Image': 1,\n",
       " 'automatic': 1,\n",
       " 'consists': 1,\n",
       " 'selecting': 1,\n",
       " 'representative': 2,\n",
       " 'set': 2,\n",
       " 'larger': 1,\n",
       " 'images.[4': 1,\n",
       " 'context': 1,\n",
       " 'useful': 1,\n",
       " 'results': 1,\n",
       " 'image': 1,\n",
       " 'exploration': 1,\n",
       " 'Video': 1,\n",
       " 'domain': 1,\n",
       " 'creates': 1,\n",
       " 'trailer': 1,\n",
       " 'long': 1,\n",
       " 'video': 1,\n",
       " 'applications': 1,\n",
       " 'consumer': 1,\n",
       " 'personal': 1,\n",
       " 'want': 2,\n",
       " 'skip': 1,\n",
       " 'boring': 2,\n",
       " 'repetitive': 1,\n",
       " 'actions': 1,\n",
       " 'Similarly': 1,\n",
       " 'surveillance': 1,\n",
       " 'extract': 1,\n",
       " 'important': 1,\n",
       " 'suspicious': 1,\n",
       " 'activity': 1,\n",
       " 'ignoring': 1,\n",
       " 'redundant': 1,\n",
       " 'frames': 1,\n",
       " 'captured': 1}"
      ]
     },
     "execution_count": 27,
     "metadata": {},
     "output_type": "execute_result"
    }
   ],
   "source": [
    "word_frequencies"
   ]
  },
  {
   "cell_type": "code",
   "execution_count": 28,
   "metadata": {},
   "outputs": [
    {
     "data": {
      "text/plain": [
       "11"
      ]
     },
     "execution_count": 28,
     "metadata": {},
     "output_type": "execute_result"
    }
   ],
   "source": [
    "max_frequency = max(word_frequencies.values())\n",
    "max_frequency "
   ]
  },
  {
   "cell_type": "code",
   "execution_count": 29,
   "metadata": {},
   "outputs": [],
   "source": [
    "#to get normalized/weighted frequencies you should devide all frequencies with 11\n",
    "for word in word_frequencies.keys():\n",
    "    word_frequencies[word] = word_frequencies[word]/max_frequency"
   ]
  },
  {
   "cell_type": "code",
   "execution_count": 30,
   "metadata": {},
   "outputs": [
    {
     "data": {
      "text/plain": [
       "{'broadly': 0.09090909090909091,\n",
       " 'types': 0.09090909090909091,\n",
       " 'extractive': 0.09090909090909091,\n",
       " 'summarization': 1.0,\n",
       " 'tasks': 0.09090909090909091,\n",
       " 'depending': 0.18181818181818182,\n",
       " 'program': 0.09090909090909091,\n",
       " 'focuses': 0.18181818181818182,\n",
       " 'generic': 0.2727272727272727,\n",
       " 'obtaining': 0.09090909090909091,\n",
       " 'summary': 0.36363636363636365,\n",
       " 'abstract': 0.18181818181818182,\n",
       " 'collection': 0.2727272727272727,\n",
       " 'documents': 0.18181818181818182,\n",
       " 'sets': 0.09090909090909091,\n",
       " 'images': 0.2727272727272727,\n",
       " 'videos': 0.2727272727272727,\n",
       " 'news': 0.36363636363636365,\n",
       " 'stories': 0.09090909090909091,\n",
       " 'etc': 0.09090909090909091,\n",
       " 'second': 0.09090909090909091,\n",
       " 'query': 0.36363636363636365,\n",
       " 'relevant': 0.18181818181818182,\n",
       " 'called': 0.18181818181818182,\n",
       " 'based': 0.09090909090909091,\n",
       " 'summarizes': 0.09090909090909091,\n",
       " 'objects': 0.09090909090909091,\n",
       " 'specific': 0.09090909090909091,\n",
       " 'Summarization': 0.09090909090909091,\n",
       " 'systems': 0.09090909090909091,\n",
       " 'able': 0.09090909090909091,\n",
       " 'create': 0.09090909090909091,\n",
       " 'text': 0.09090909090909091,\n",
       " 'summaries': 0.18181818181818182,\n",
       " 'machine': 0.09090909090909091,\n",
       " 'generated': 0.09090909090909091,\n",
       " 'user': 0.09090909090909091,\n",
       " 'needs': 0.09090909090909091,\n",
       " '\\n': 0.18181818181818182,\n",
       " 'example': 0.2727272727272727,\n",
       " 'problem': 0.18181818181818182,\n",
       " 'document': 0.36363636363636365,\n",
       " 'attempts': 0.09090909090909091,\n",
       " 'automatically': 0.2727272727272727,\n",
       " 'produce': 0.09090909090909091,\n",
       " 'given': 0.18181818181818182,\n",
       " 'interested': 0.09090909090909091,\n",
       " 'generating': 0.09090909090909091,\n",
       " 'single': 0.09090909090909091,\n",
       " 'source': 0.18181818181818182,\n",
       " 'use': 0.09090909090909091,\n",
       " 'multiple': 0.09090909090909091,\n",
       " 'cluster': 0.09090909090909091,\n",
       " 'articles': 0.2727272727272727,\n",
       " 'topic': 0.18181818181818182,\n",
       " 'multi': 0.09090909090909091,\n",
       " 'related': 0.18181818181818182,\n",
       " 'application': 0.18181818181818182,\n",
       " 'summarizing': 0.09090909090909091,\n",
       " 'Imagine': 0.09090909090909091,\n",
       " 'system': 0.2727272727272727,\n",
       " 'pulls': 0.09090909090909091,\n",
       " 'web': 0.09090909090909091,\n",
       " 'concisely': 0.09090909090909091,\n",
       " 'represents': 0.09090909090909091,\n",
       " 'latest': 0.09090909090909091,\n",
       " 'Image': 0.09090909090909091,\n",
       " 'automatic': 0.09090909090909091,\n",
       " 'consists': 0.09090909090909091,\n",
       " 'selecting': 0.09090909090909091,\n",
       " 'representative': 0.18181818181818182,\n",
       " 'set': 0.18181818181818182,\n",
       " 'larger': 0.09090909090909091,\n",
       " 'images.[4': 0.09090909090909091,\n",
       " 'context': 0.09090909090909091,\n",
       " 'useful': 0.09090909090909091,\n",
       " 'results': 0.09090909090909091,\n",
       " 'image': 0.09090909090909091,\n",
       " 'exploration': 0.09090909090909091,\n",
       " 'Video': 0.09090909090909091,\n",
       " 'domain': 0.09090909090909091,\n",
       " 'creates': 0.09090909090909091,\n",
       " 'trailer': 0.09090909090909091,\n",
       " 'long': 0.09090909090909091,\n",
       " 'video': 0.09090909090909091,\n",
       " 'applications': 0.09090909090909091,\n",
       " 'consumer': 0.09090909090909091,\n",
       " 'personal': 0.09090909090909091,\n",
       " 'want': 0.18181818181818182,\n",
       " 'skip': 0.09090909090909091,\n",
       " 'boring': 0.18181818181818182,\n",
       " 'repetitive': 0.09090909090909091,\n",
       " 'actions': 0.09090909090909091,\n",
       " 'Similarly': 0.09090909090909091,\n",
       " 'surveillance': 0.09090909090909091,\n",
       " 'extract': 0.09090909090909091,\n",
       " 'important': 0.09090909090909091,\n",
       " 'suspicious': 0.09090909090909091,\n",
       " 'activity': 0.09090909090909091,\n",
       " 'ignoring': 0.09090909090909091,\n",
       " 'redundant': 0.09090909090909091,\n",
       " 'frames': 0.09090909090909091,\n",
       " 'captured': 0.09090909090909091}"
      ]
     },
     "execution_count": 30,
     "metadata": {},
     "output_type": "execute_result"
    }
   ],
   "source": [
    "#print(word_frequencies)\n",
    "word_frequencies\n",
    "#this is the normalized frequencies of each word"
   ]
  },
  {
   "cell_type": "code",
   "execution_count": 31,
   "metadata": {},
   "outputs": [
    {
     "data": {
      "text/plain": [
       "[There are broadly two types of extractive summarization tasks depending on what the summarization program focuses on.,\n",
       " The first is generic summarization, which focuses on obtaining a generic summary or abstract of the collection (whether documents, or sets of images, or videos, news stories etc.).,\n",
       " The second is query relevant summarization, sometimes called query-based summarization, which summarizes objects specific to a query.,\n",
       " Summarization systems are able to create both query relevant text summaries and generic machine-generated summaries depending on what the user needs.,\n",
       " An example of a summarization problem is document summarization, which attempts to automatically produce an abstract from a given document.,\n",
       " Sometimes one might be interested in generating a summary from a single source document, while others can use multiple source documents (for example, a cluster of articles on the same topic).,\n",
       " This problem is called multi-document summarization.,\n",
       " A related application is summarizing news articles.,\n",
       " Imagine a system, which automatically pulls together news articles on a given topic (from the web), and concisely represents the latest news as a summary.,\n",
       " Image collection summarization is another application example of automatic summarization.,\n",
       " It consists in selecting a representative set of images from a larger set of images.[4] A summary in this context is useful to show the most representative images of results in an image collection exploration system.,\n",
       " Video summarization is a related domain, where the system automatically creates a trailer of a long video.,\n",
       " This also has applications in consumer or personal videos, where one might want to skip the boring or repetitive actions.,\n",
       " Similarly, in surveillance videos, one would want to extract important and suspicious activity, while ignoring all the boring and redundant frames captured]"
      ]
     },
     "execution_count": 31,
     "metadata": {},
     "output_type": "execute_result"
    }
   ],
   "source": [
    "sentence_tokens = [sent for sent in doc.sents]\n",
    "sentence_tokens"
   ]
  },
  {
   "cell_type": "code",
   "execution_count": 32,
   "metadata": {},
   "outputs": [
    {
     "data": {
      "text/plain": [
       "14"
      ]
     },
     "execution_count": 32,
     "metadata": {},
     "output_type": "execute_result"
    }
   ],
   "source": [
    "len(sentence_tokens)"
   ]
  },
  {
   "cell_type": "code",
   "execution_count": 33,
   "metadata": {},
   "outputs": [
    {
     "data": {
      "text/plain": [
       "[There are broadly two types of extractive summarization tasks depending on what the summarization program focuses on.,\n",
       " The first is generic summarization, which focuses on obtaining a generic summary or abstract of the collection (whether documents, or sets of images, or videos, news stories etc.).,\n",
       " The second is query relevant summarization, sometimes called query-based summarization, which summarizes objects specific to a query.,\n",
       " Summarization systems are able to create both query relevant text summaries and generic machine-generated summaries depending on what the user needs.,\n",
       " An example of a summarization problem is document summarization, which attempts to automatically produce an abstract from a given document.,\n",
       " Sometimes one might be interested in generating a summary from a single source document, while others can use multiple source documents (for example, a cluster of articles on the same topic).,\n",
       " This problem is called multi-document summarization.,\n",
       " A related application is summarizing news articles.,\n",
       " Imagine a system, which automatically pulls together news articles on a given topic (from the web), and concisely represents the latest news as a summary.,\n",
       " Image collection summarization is another application example of automatic summarization.,\n",
       " It consists in selecting a representative set of images from a larger set of images.[4] A summary in this context is useful to show the most representative images of results in an image collection exploration system.,\n",
       " Video summarization is a related domain, where the system automatically creates a trailer of a long video.,\n",
       " This also has applications in consumer or personal videos, where one might want to skip the boring or repetitive actions.,\n",
       " Similarly, in surveillance videos, one would want to extract important and suspicious activity, while ignoring all the boring and redundant frames captured]"
      ]
     },
     "execution_count": 33,
     "metadata": {},
     "output_type": "execute_result"
    }
   ],
   "source": [
    "sentence_tokens"
   ]
  },
  {
   "cell_type": "code",
   "execution_count": 34,
   "metadata": {},
   "outputs": [],
   "source": [
    "# we are going to calculate the sentence score, to calculate the sentence score \n",
    "sentence_scores = {}\n",
    "\n",
    "for sent in sentence_tokens:\n",
    "    for word in sent:\n",
    "        if word.text.lower() in word_frequencies.keys():\n",
    "            if sent not in sentence_scores.keys():\n",
    "                sentence_scores[sent] = word_frequencies[word.text.lower()]\n",
    "            else:\n",
    "                sentence_scores[sent] += word_frequencies[word.text.lower()]\n",
    "        "
   ]
  },
  {
   "cell_type": "code",
   "execution_count": 35,
   "metadata": {
    "scrolled": true
   },
   "outputs": [
    {
     "data": {
      "text/plain": [
       "{There are broadly two types of extractive summarization tasks depending on what the summarization program focuses on.: 2.818181818181818,\n",
       " The first is generic summarization, which focuses on obtaining a generic summary or abstract of the collection (whether documents, or sets of images, or videos, news stories etc.).: 3.9999999999999987,\n",
       " The second is query relevant summarization, sometimes called query-based summarization, which summarizes objects specific to a query.: 3.909090909090909,\n",
       " Summarization systems are able to create both query relevant text summaries and generic machine-generated summaries depending on what the user needs.: 3.2727272727272716,\n",
       " An example of a summarization problem is document summarization, which attempts to automatically produce an abstract from a given document.: 3.9999999999999996,\n",
       " Sometimes one might be interested in generating a summary from a single source document, while others can use multiple source documents (for example, a cluster of articles on the same topic).: 2.545454545454545,\n",
       " This problem is called multi-document summarization.: 1.8181818181818183,\n",
       " A related application is summarizing news articles.: 1.0909090909090908,\n",
       " Imagine a system, which automatically pulls together news articles on a given topic (from the web), and concisely represents the latest news as a summary.: 2.9090909090909087,\n",
       " Image collection summarization is another application example of automatic summarization.: 2.909090909090909,\n",
       " It consists in selecting a representative set of images from a larger set of images.[4] A summary in this context is useful to show the most representative images of results in an image collection exploration system.: 2.999999999999999,\n",
       " Video summarization is a related domain, where the system automatically creates a trailer of a long video.: 2.2727272727272725,\n",
       " This also has applications in consumer or personal videos, where one might want to skip the boring or repetitive actions.: 1.1818181818181817,\n",
       " Similarly, in surveillance videos, one would want to extract important and suspicious activity, while ignoring all the boring and redundant frames captured: 1.4545454545454544}"
      ]
     },
     "execution_count": 35,
     "metadata": {},
     "output_type": "execute_result"
    }
   ],
   "source": [
    "sentence_scores"
   ]
  },
  {
   "cell_type": "code",
   "execution_count": 36,
   "metadata": {},
   "outputs": [],
   "source": [
    "#lets say our case study was 30% sentence with maximum scores\n",
    "from heapq import nlargest "
   ]
  },
  {
   "cell_type": "code",
   "execution_count": 37,
   "metadata": {},
   "outputs": [
    {
     "data": {
      "text/plain": [
       "5"
      ]
     },
     "execution_count": 37,
     "metadata": {},
     "output_type": "execute_result"
    }
   ],
   "source": [
    "select_length = int(len(sentence_tokens)*0.4)\n",
    "select_length"
   ]
  },
  {
   "cell_type": "code",
   "execution_count": 38,
   "metadata": {},
   "outputs": [],
   "source": [
    "#we have to select maximum 4 sentences out of all sentences \n",
    "summary = nlargest(select_length,sentence_scores, key = sentence_scores.get)"
   ]
  },
  {
   "cell_type": "code",
   "execution_count": 39,
   "metadata": {},
   "outputs": [
    {
     "data": {
      "text/plain": [
       "[An example of a summarization problem is document summarization, which attempts to automatically produce an abstract from a given document.,\n",
       " The first is generic summarization, which focuses on obtaining a generic summary or abstract of the collection (whether documents, or sets of images, or videos, news stories etc.).,\n",
       " The second is query relevant summarization, sometimes called query-based summarization, which summarizes objects specific to a query.,\n",
       " Summarization systems are able to create both query relevant text summaries and generic machine-generated summaries depending on what the user needs.,\n",
       " It consists in selecting a representative set of images from a larger set of images.[4] A summary in this context is useful to show the most representative images of results in an image collection exploration system.]"
      ]
     },
     "execution_count": 39,
     "metadata": {},
     "output_type": "execute_result"
    }
   ],
   "source": [
    "summary"
   ]
  },
  {
   "cell_type": "code",
   "execution_count": 40,
   "metadata": {},
   "outputs": [
    {
     "data": {
      "text/plain": [
       "{There are broadly two types of extractive summarization tasks depending on what the summarization program focuses on.: 2.818181818181818,\n",
       " The first is generic summarization, which focuses on obtaining a generic summary or abstract of the collection (whether documents, or sets of images, or videos, news stories etc.).: 3.9999999999999987,\n",
       " The second is query relevant summarization, sometimes called query-based summarization, which summarizes objects specific to a query.: 3.909090909090909,\n",
       " Summarization systems are able to create both query relevant text summaries and generic machine-generated summaries depending on what the user needs.: 3.2727272727272716,\n",
       " An example of a summarization problem is document summarization, which attempts to automatically produce an abstract from a given document.: 3.9999999999999996,\n",
       " Sometimes one might be interested in generating a summary from a single source document, while others can use multiple source documents (for example, a cluster of articles on the same topic).: 2.545454545454545,\n",
       " This problem is called multi-document summarization.: 1.8181818181818183,\n",
       " A related application is summarizing news articles.: 1.0909090909090908,\n",
       " Imagine a system, which automatically pulls together news articles on a given topic (from the web), and concisely represents the latest news as a summary.: 2.9090909090909087,\n",
       " Image collection summarization is another application example of automatic summarization.: 2.909090909090909,\n",
       " It consists in selecting a representative set of images from a larger set of images.[4] A summary in this context is useful to show the most representative images of results in an image collection exploration system.: 2.999999999999999,\n",
       " Video summarization is a related domain, where the system automatically creates a trailer of a long video.: 2.2727272727272725,\n",
       " This also has applications in consumer or personal videos, where one might want to skip the boring or repetitive actions.: 1.1818181818181817,\n",
       " Similarly, in surveillance videos, one would want to extract important and suspicious activity, while ignoring all the boring and redundant frames captured: 1.4545454545454544}"
      ]
     },
     "execution_count": 40,
     "metadata": {},
     "output_type": "execute_result"
    }
   ],
   "source": [
    "sentence_scores"
   ]
  },
  {
   "cell_type": "code",
   "execution_count": 41,
   "metadata": {},
   "outputs": [],
   "source": [
    "# if i need to combine these top 3 sentencs then \n",
    "\n",
    "final_summary = [word.text for word in summary]"
   ]
  },
  {
   "cell_type": "code",
   "execution_count": 42,
   "metadata": {},
   "outputs": [
    {
     "data": {
      "text/plain": [
       "['An example of a summarization problem is document summarization, which attempts to automatically produce an abstract from a given document.',\n",
       " 'The first is generic summarization, which focuses on obtaining a generic summary or abstract of the collection (whether documents, or sets of images, or videos, news stories etc.).',\n",
       " 'The second is query relevant summarization, sometimes called query-based summarization, which summarizes objects specific to a query.',\n",
       " 'Summarization systems are able to create both query relevant text summaries and generic machine-generated summaries depending on what the user needs.\\n',\n",
       " 'It consists in selecting a representative set of images from a larger set of images.[4] A summary in this context is useful to show the most representative images of results in an image collection exploration system.']"
      ]
     },
     "execution_count": 42,
     "metadata": {},
     "output_type": "execute_result"
    }
   ],
   "source": [
    "final_summary"
   ]
  },
  {
   "cell_type": "code",
   "execution_count": 43,
   "metadata": {},
   "outputs": [
    {
     "name": "stdout",
     "output_type": "stream",
     "text": [
      "[An example of a summarization problem is document summarization, which attempts to automatically produce an abstract from a given document., The first is generic summarization, which focuses on obtaining a generic summary or abstract of the collection (whether documents, or sets of images, or videos, news stories etc.)., The second is query relevant summarization, sometimes called query-based summarization, which summarizes objects specific to a query., Summarization systems are able to create both query relevant text summaries and generic machine-generated summaries depending on what the user needs.\n",
      ", It consists in selecting a representative set of images from a larger set of images.[4] A summary in this context is useful to show the most representative images of results in an image collection exploration system.]\n"
     ]
    }
   ],
   "source": [
    "print(summary) # we get the final summary by our model"
   ]
  },
  {
   "cell_type": "code",
   "execution_count": null,
   "metadata": {},
   "outputs": [],
   "source": []
  },
  {
   "cell_type": "code",
   "execution_count": null,
   "metadata": {},
   "outputs": [],
   "source": []
  }
 ],
 "metadata": {
  "kernelspec": {
   "display_name": "Python 3 (ipykernel)",
   "language": "python",
   "name": "python3"
  },
  "language_info": {
   "codemirror_mode": {
    "name": "ipython",
    "version": 3
   },
   "file_extension": ".py",
   "mimetype": "text/x-python",
   "name": "python",
   "nbconvert_exporter": "python",
   "pygments_lexer": "ipython3",
   "version": "3.11.5"
  }
 },
 "nbformat": 4,
 "nbformat_minor": 4
}
